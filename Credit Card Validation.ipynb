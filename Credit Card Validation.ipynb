{
 "cells": [
  {
   "cell_type": "code",
   "execution_count": 2,
   "id": "89fcd157-4be9-40f7-baa5-7544bb316795",
   "metadata": {},
   "outputs": [
    {
     "name": "stdin",
     "output_type": "stream",
     "text": [
      "What is the first letter of your card type (\"v\" for Visa)? v\n",
      "What is your credit card number? 1234123412346070\n",
      "What is your CCV? 012\n"
     ]
    },
    {
     "name": "stdout",
     "output_type": "stream",
     "text": [
      "Valid Credit Card\n"
     ]
    }
   ],
   "source": [
    "#NOAH WINTON\n",
    "# check if the cvv is 4 numbers for american express, 3 numbers for other types\n",
    "def checkccv(c):\n",
    "    if t == 'a':\n",
    "        return len(c) == 4\n",
    "    else:\n",
    "        return len(c) == 3\n",
    "# check if the sum of the first two numbers in the cvv equal the 5th number in the card\n",
    "def checksum(n,c):\n",
    "    x = str(int(c[0])+int(c[1]))\n",
    "    return (x == n[4])\n",
    "    \n",
    "# check if the length of the card is 16, the first digit is not 0, and the elements of the string are all digits\n",
    "def checkcc(n):\n",
    "    if len(n) == 16 and n[0] != '0' and n.isdigit() == True:\n",
    "        return True\n",
    "    else: \n",
    "        return False\n",
    "\n",
    "#luhn test\n",
    "def luhn(n):    \n",
    "    total = 0\n",
    "    x = n[::2]\n",
    "    for i in x:\n",
    "        y = str(int(i)*2)\n",
    "        if len(y) == 2:\n",
    "            z = str((int(y[0]))+(int(y[1])))\n",
    "            total += int(z)\n",
    "        else: \n",
    "            total += int(y)\n",
    "    y = n[1::2]\n",
    "    for i in y:\n",
    "        total += int(i)\n",
    "    if total % 10 == 0:\n",
    "        print('Valid Credit Card')\n",
    "        \n",
    "    else: \n",
    "        print('Invalid Card')\n",
    "        \n",
    "# number validation to see if card is actually a card   \n",
    "x = 0\n",
    "while x == 0:\n",
    "    t = input('What is the first letter of your card type (\"v\" for Visa)?')\n",
    "    n = input('What is your credit card number?')\n",
    "    c = input('What is your CCV?')\n",
    "    if checkccv(c) == True and checksum(n,c) == True and checkcc(n) == True:\n",
    "        x += 1\n",
    "    else: \n",
    "        print('Invalid Input')\n",
    "luhn(n)"
   ]
  },
  {
   "cell_type": "code",
   "execution_count": 33,
   "id": "259d71b0-d38f-4309-a4d6-8580daef0783",
   "metadata": {},
   "outputs": [
    {
     "name": "stdout",
     "output_type": "stream",
     "text": [
      "Valid Credit Card\n"
     ]
    }
   ],
   "source": []
  },
  {
   "cell_type": "code",
   "execution_count": 39,
   "id": "e5b58eea-0f70-471d-987f-5370776d007f",
   "metadata": {},
   "outputs": [],
   "source": []
  },
  {
   "cell_type": "code",
   "execution_count": 38,
   "id": "a047d4df-8226-4697-8c77-fb80bdd9e2d4",
   "metadata": {},
   "outputs": [
    {
     "data": {
      "text/plain": [
       "70"
      ]
     },
     "execution_count": 38,
     "metadata": {},
     "output_type": "execute_result"
    }
   ],
   "source": []
  },
  {
   "cell_type": "code",
   "execution_count": 29,
   "id": "6a8ac2a5-65d8-4449-a289-3b2198b391be",
   "metadata": {},
   "outputs": [
    {
     "name": "stdout",
     "output_type": "stream",
     "text": [
      "8\n"
     ]
    },
    {
     "ename": "IndexError",
     "evalue": "string index out of range",
     "output_type": "error",
     "traceback": [
      "\u001b[0;31m---------------------------------------------------------------------------\u001b[0m",
      "\u001b[0;31mIndexError\u001b[0m                                Traceback (most recent call last)",
      "\u001b[0;32m/var/folders/9x/lw_r3c094k7f86kc261pxxch0000gn/T/ipykernel_19209/1458494668.py\u001b[0m in \u001b[0;36m<module>\u001b[0;34m\u001b[0m\n\u001b[1;32m      2\u001b[0m     \u001b[0my\u001b[0m \u001b[0;34m=\u001b[0m \u001b[0mstr\u001b[0m\u001b[0;34m(\u001b[0m\u001b[0mint\u001b[0m\u001b[0;34m(\u001b[0m\u001b[0mi\u001b[0m\u001b[0;34m)\u001b[0m\u001b[0;34m*\u001b[0m\u001b[0;36m2\u001b[0m\u001b[0;34m)\u001b[0m\u001b[0;34m\u001b[0m\u001b[0;34m\u001b[0m\u001b[0m\n\u001b[1;32m      3\u001b[0m     \u001b[0mprint\u001b[0m\u001b[0;34m(\u001b[0m\u001b[0my\u001b[0m\u001b[0;34m)\u001b[0m\u001b[0;34m\u001b[0m\u001b[0;34m\u001b[0m\u001b[0m\n\u001b[0;32m----> 4\u001b[0;31m     \u001b[0mz\u001b[0m \u001b[0;34m=\u001b[0m \u001b[0mstr\u001b[0m\u001b[0;34m(\u001b[0m\u001b[0;34m(\u001b[0m\u001b[0mint\u001b[0m\u001b[0;34m(\u001b[0m\u001b[0my\u001b[0m\u001b[0;34m[\u001b[0m\u001b[0;36m0\u001b[0m\u001b[0;34m]\u001b[0m\u001b[0;34m)\u001b[0m\u001b[0;34m)\u001b[0m\u001b[0;34m+\u001b[0m\u001b[0;34m(\u001b[0m\u001b[0mint\u001b[0m\u001b[0;34m(\u001b[0m\u001b[0my\u001b[0m\u001b[0;34m[\u001b[0m\u001b[0;36m1\u001b[0m\u001b[0;34m]\u001b[0m\u001b[0;34m)\u001b[0m\u001b[0;34m)\u001b[0m\u001b[0;34m)\u001b[0m\u001b[0;34m\u001b[0m\u001b[0;34m\u001b[0m\u001b[0m\n\u001b[0m",
      "\u001b[0;31mIndexError\u001b[0m: string index out of range"
     ]
    }
   ],
   "source": []
  },
  {
   "cell_type": "code",
   "execution_count": null,
   "id": "dd323faf-4fb7-4e48-a6b7-9188ab1b38dd",
   "metadata": {},
   "outputs": [],
   "source": []
  }
 ],
 "metadata": {
  "kernelspec": {
   "display_name": "Python 3 (ipykernel)",
   "language": "python",
   "name": "python3"
  },
  "language_info": {
   "codemirror_mode": {
    "name": "ipython",
    "version": 3
   },
   "file_extension": ".py",
   "mimetype": "text/x-python",
   "name": "python",
   "nbconvert_exporter": "python",
   "pygments_lexer": "ipython3",
   "version": "3.9.7"
  }
 },
 "nbformat": 4,
 "nbformat_minor": 5
}
