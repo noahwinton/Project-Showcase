{
 "cells": [
  {
   "cell_type": "markdown",
   "id": "f918848c-bdac-46a8-b175-916b28ed8250",
   "metadata": {},
   "source": [
    "# Loop Exercises"
   ]
  },
  {
   "cell_type": "markdown",
   "id": "fcac8cac-daf3-4bfd-b68d-92249e6477f7",
   "metadata": {},
   "source": [
    "### Problem 1\n",
    "Prompt the user for an integer. Using a loop, list all of the integers between 0 and the value provided. For example, if the user enters 5, the result should be  0 1 2 3 4 5"
   ]
  },
  {
   "cell_type": "code",
   "execution_count": null,
   "id": "3d61d94c-c33c-4647-92bf-c4441ceea0b6",
   "metadata": {},
   "outputs": [],
   "source": []
  },
  {
   "cell_type": "markdown",
   "id": "72f318e6-99ce-4316-8c12-0ae8c7109a22",
   "metadata": {},
   "source": [
    "### Problem 2\n",
    "Roll a dice 100 times, keeping track of how many snakeeyes (a 1) are rolled. Report the # of snakeyes and the % of occurrence"
   ]
  },
  {
   "cell_type": "code",
   "execution_count": null,
   "id": "042be649-913f-4db4-9dda-ba3b17d03706",
   "metadata": {},
   "outputs": [],
   "source": []
  },
  {
   "cell_type": "markdown",
   "id": "11a1f233-7aca-4b6d-9e07-443d96952796",
   "metadata": {},
   "source": [
    "### Problem 3\n",
    "Roll a pair of dice 100 times, keeping track of how many pairs (identical value) occur and how many times snake eyes (a pair of one's) are rolled. Report both numbers and also the % of each occurrence."
   ]
  },
  {
   "cell_type": "code",
   "execution_count": null,
   "id": "6aa55e26-87af-4851-ac2d-07df98a411db",
   "metadata": {},
   "outputs": [],
   "source": []
  },
  {
   "cell_type": "markdown",
   "id": "f36f4067-62ce-460e-b7da-c77335c3df88",
   "metadata": {},
   "source": [
    "### Problem 4\n",
    "Roll 2 dice and print the results. Ensure that the value of the 2 die are different (i.e. never the same)"
   ]
  },
  {
   "cell_type": "code",
   "execution_count": null,
   "id": "e942e81c-4991-4236-86e6-045786e13586",
   "metadata": {},
   "outputs": [],
   "source": []
  },
  {
   "cell_type": "markdown",
   "id": "f5f8f100-f00f-4562-bee7-e2825b60a0c2",
   "metadata": {},
   "source": [
    "### Problem 5\n",
    "Create a 'game' to test a student's adding skills. Ask the student to answer 5 random problems using the integers 1-10. Keep track of how many the student gets correct or wrong "
   ]
  },
  {
   "cell_type": "code",
   "execution_count": null,
   "id": "f33bfffb-96d2-4488-8d79-8071a9818cd7",
   "metadata": {},
   "outputs": [],
   "source": []
  }
 ],
 "metadata": {
  "kernelspec": {
   "display_name": "Python 3",
   "language": "python",
   "name": "python3"
  },
  "language_info": {
   "codemirror_mode": {
    "name": "ipython",
    "version": 3
   },
   "file_extension": ".py",
   "mimetype": "text/x-python",
   "name": "python",
   "nbconvert_exporter": "python",
   "pygments_lexer": "ipython3",
   "version": "3.8.8"
  }
 },
 "nbformat": 4,
 "nbformat_minor": 5
}
