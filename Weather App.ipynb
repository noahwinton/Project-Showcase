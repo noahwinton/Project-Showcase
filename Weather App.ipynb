{
 "cells": [
  {
   "cell_type": "code",
   "execution_count": 1,
   "id": "64936adc-1de4-4f75-9b12-40ff654a2755",
   "metadata": {},
   "outputs": [],
   "source": [
    "import requests\n",
    "appid2 = '7aeafa21a0ef1b7163f5addecb50b3a7'\n",
    "url2 = 'http://api.openweathermap.org/data/2.5/forecast?zip={}&units=imperial&appid={}'\n",
    "\n",
    "appid = 'afe2d824032cd738ac328ce983f610a7'\n",
    "url =  'http://api.openweathermap.org/data/2.5/weather?zip={}&units=imperial&appid={}'"
   ]
  },
  {
   "cell_type": "code",
   "execution_count": 2,
   "id": "c15c64a4-ee06-415f-b705-16263acc69a0",
   "metadata": {},
   "outputs": [],
   "source": [
    "#pulling information from api \n",
    "def get_info(url, lat = '', lon = '',json=True):\n",
    "    try:\n",
    "        response = requests.get(url)\n",
    "        if not json and response:\n",
    "            response.encoding = 'utf-8'\n",
    "            return response.text\n",
    "        if response.status_code != 200:\n",
    "            raise\n",
    "        data = response.json()\n",
    "        return data\n",
    "    except:\n",
    "        print(\"Call was not successful.\")\n",
    "        return None"
   ]
  },
  {
   "cell_type": "code",
   "execution_count": 3,
   "id": "e9c4b486-cf8d-4b68-b0ed-5366fcea68c9",
   "metadata": {},
   "outputs": [],
   "source": [
    "# retriving current weather, current temperature, and city name from the get_info pull\n",
    "def current(url, zipcode):\n",
    "    try:\n",
    "        response = get_info(url)\n",
    "        response = response['weather']\n",
    "        current_weather = response[0]['description']\n",
    "        response = get_info(url)\n",
    "        current_temp = response['main']['temp']\n",
    "        city = response['name']\n",
    "        return (current_weather, current_temp, city)\n",
    "    except: \n",
    "        print('Invalid Entry')\n",
    "\n",
    "\n",
    "#getting list of temperatures over next 5 days every 3 hours and feels_like temperatures and finding average \n",
    "def ave_temp(url, zipcode):\n",
    "    try:\n",
    "        response = get_info(url)\n",
    "        x = response['list']\n",
    "        lst = []\n",
    "        for i in range(len(x)):\n",
    "            lst.append(x[i]['main']['temp'])\n",
    "        total = 0\n",
    "        for i in lst:\n",
    "            total += i\n",
    "        ave_temp = total/len(lst)\n",
    "        feellst = []\n",
    "        response = get_info(url = url2)\n",
    "        x = response['list']\n",
    "        for i in range(len(x)):\n",
    "            feellst.append(x[i]['main']['feels_like'])\n",
    "        total = 0\n",
    "        for i in feellst:\n",
    "            total += i\n",
    "        feels_like_temp = total/len(feellst)\n",
    "        return (ave_temp, feels_like_temp)\n",
    "    except:\n",
    "        print('Invalid Entry')\n",
    "        \n",
    "\n",
    "        \n",
    "# pulling only temperatures for 3pm over next 5 days and finding average \n",
    "def ave_temp_3(url, zipcode):\n",
    "    try:\n",
    "        response = get_info(url)\n",
    "        lst1 = []\n",
    "        for i in range(len(response['list'])):\n",
    "            if '03:00:00' in response['list'][i]['dt_txt']:\n",
    "                lst1.append(response['list'][i]['main']['temp'])\n",
    "        total = 0\n",
    "        for i in lst1:\n",
    "            total += i\n",
    "        total = total / len(lst1)\n",
    "        return total\n",
    "    except:\n",
    "        print('Invalid Entry')"
   ]
  },
  {
   "cell_type": "code",
   "execution_count": 4,
   "id": "5ec4e8b6-7fdd-42c3-986b-7bf9f05a5e7c",
   "metadata": {},
   "outputs": [
    {
     "name": "stdin",
     "output_type": "stream",
     "text": [
      "Please input Zip Code: 20854\n"
     ]
    },
    {
     "name": "stdout",
     "output_type": "stream",
     "text": [
      "In Potomac, it is 26 degrees with clear sky. Over the next 5 days, the temperature will average 48 degrees and feel like 45 degrees. The average temperature will be 47 degrees at 3:00 pm over the next 5 days.\n"
     ]
    }
   ],
   "source": [
    "#gathering user input and validadting that it will run before displaying formatted response \n",
    "x = 0\n",
    "while x == 0:\n",
    "    try:\n",
    "        zipcode = input('Please input Zip Code:')\n",
    "        \n",
    "        appid2 = '7aeafa21a0ef1b7163f5addecb50b3a7'\n",
    "        url2 = 'http://api.openweathermap.org/data/2.5/forecast?zip={}&units=imperial&appid={}'.format(zipcode, appid2)\n",
    "        appid = 'afe2d824032cd738ac328ce983f610a7'\n",
    "        url =  'http://api.openweathermap.org/data/2.5/weather?zip={}&units=imperial&appid={}'.format(zipcode,appid)\n",
    "        \n",
    "        current_temp = current(url = url, zipcode = zipcode)\n",
    "        average = ave_temp(url = url2, zipcode = zipcode)\n",
    "        three_ave = ave_temp_3(url = url2, zipcode = zipcode)\n",
    "        print('In {}, it is {:.0f} degrees with {}. Over the next 5 days, the temperature will average {:.0f} degrees and feel like {:.0f} degrees. The average temperature will be {:.0f} degrees at 3:00 pm over the next 5 days.'.format(current_temp[2], current_temp[1], current_temp[0], average[0], average[1], three_ave))\n",
    "        x += 1\n",
    "    except:\n",
    "        continue"
   ]
  },
  {
   "cell_type": "code",
   "execution_count": null,
   "id": "925cd5cf-6472-4c5c-b7ab-6d5454baea16",
   "metadata": {},
   "outputs": [],
   "source": []
  }
 ],
 "metadata": {
  "kernelspec": {
   "display_name": "Python 3 (ipykernel)",
   "language": "python",
   "name": "python3"
  },
  "language_info": {
   "codemirror_mode": {
    "name": "ipython",
    "version": 3
   },
   "file_extension": ".py",
   "mimetype": "text/x-python",
   "name": "python",
   "nbconvert_exporter": "python",
   "pygments_lexer": "ipython3",
   "version": "3.9.7"
  }
 },
 "nbformat": 4,
 "nbformat_minor": 5
}
