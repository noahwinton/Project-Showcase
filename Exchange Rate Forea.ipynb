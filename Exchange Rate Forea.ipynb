{
 "cells": [
  {
   "cell_type": "markdown",
   "id": "b8a6be8b-19c5-4519-b7c2-8021988e4e95",
   "metadata": {},
   "source": [
    "# Currency Exchange Application"
   ]
  },
  {
   "cell_type": "markdown",
   "id": "0debece1-dc7f-4aad-aa7f-993d87438e40",
   "metadata": {},
   "source": [
    "### Import Modules"
   ]
  },
  {
   "cell_type": "code",
   "execution_count": 2,
   "id": "6e88c83d-e32e-430d-879e-270b6b6a8d38",
   "metadata": {},
   "outputs": [],
   "source": [
    "import requests"
   ]
  },
  {
   "cell_type": "markdown",
   "id": "50ad756a-26b7-4989-a180-fec7dede1f46",
   "metadata": {},
   "source": [
    "### Function Definitions"
   ]
  },
  {
   "cell_type": "code",
   "execution_count": 3,
   "id": "d4c1ad8e-574a-418f-8ca8-5248d7dafefe",
   "metadata": {},
   "outputs": [],
   "source": [
    "# create a function here called checkCode() that accepts as a parameter a String \n",
    "# and returns the correct currency code related to that string (a country or currency code)\n",
    "# and \"XXX\" if  the country or currency code is invalid (i.e. not found in the dictionary)."
   ]
  },
  {
   "cell_type": "code",
   "execution_count": 4,
   "id": "3c0a28af-faa6-4869-a0d5-b75cf4d08ae3",
   "metadata": {},
   "outputs": [],
   "source": [
    "# get data from a URL (json=False) or an API (json=True), return None if call is not successful\n",
    "def getURLdata(url, options='',json=True):\n",
    "    try:\n",
    "        response = requests.get(url, options)\n",
    "        if not json and response:\n",
    "            response.encoding = 'utf-8'\n",
    "            return response.text\n",
    "        if response.status_code != 200:\n",
    "            raise\n",
    "        data = response.json()\n",
    "        return data\n",
    "    except:\n",
    "        print(\"Call was not successful.\")\n",
    "        return None\n",
    "\n",
    "def checkCode(code):\n",
    "    try:\n",
    "        if len(code) == 3:\n",
    "            code = code.upper()\n",
    "            if code in currencyCodes.values():\n",
    "                return code\n",
    "            else:\n",
    "                return 'XXX'\n",
    "        else:\n",
    "            lst = []\n",
    "            code = code.lower().split()\n",
    "            for i in code:\n",
    "                lst.append(i.capitalize())\n",
    "            code = ' '.join(lst)\n",
    "            if code in currencyCodes:\n",
    "                return currencyCodes[code]\n",
    "            else:\n",
    "                return 'XXX'\n",
    "    except:\n",
    "        return 'XXX'\n",
    "    \n",
    "#convert() will take the amount, from currency, and to currency and tranlate num of fcode into tcode    \n",
    "def convert(num, fcode,tcode):\n",
    "    try:\n",
    "        val = getURLdata(URL,fcode)['rates'][tcode]\n",
    "        final = val*num\n",
    "        return '${:,.2f}'.format(final)\n",
    "    except:\n",
    "        print('Exchange Failed')"
   ]
  },
  {
   "cell_type": "markdown",
   "id": "e2d007e1-1020-48fa-bda9-1e005f817afa",
   "metadata": {},
   "source": [
    "### Application"
   ]
  },
  {
   "cell_type": "code",
   "execution_count": null,
   "id": "a1b84cb7-b6b7-41fe-91c6-9643e43bdda2",
   "metadata": {},
   "outputs": [],
   "source": []
  },
  {
   "cell_type": "code",
   "execution_count": 5,
   "id": "19691b59-aa83-4662-9f71-5ca88346fe16",
   "metadata": {},
   "outputs": [],
   "source": [
    "#global variables\n",
    "currencyCodes = {'United States':'USD', 'Canada': 'CAD', 'Hong Kong': 'HKD', 'Iceland': 'ISK', 'Philippines': 'PHP',\n",
    " 'Denmark': 'DKK', 'Hungary': 'HUF', 'Czechia': 'CZK', 'United Kingdom': 'GBP', 'Romania': 'RON',\n",
    " 'Sweden': 'SEK', 'Indonesia': 'IDR', 'India': 'INR', 'Brazil': 'BRL', 'Russia': 'RUB',\n",
    " 'Croatia': 'HRK', 'Japan': 'JPY', 'Thailand': 'THB', 'Switzerland': 'CHF', 'European Union': 'EUR',\n",
    " 'Malaysia': 'MYR', 'Bulgaria': 'BGN', 'Turkey': 'TRY', 'China': 'CNY', 'Norway': 'NOK',\n",
    " 'New Zealand': 'NZD', 'South Africa': 'ZAR', 'Mexico': 'MXN', 'Singapore': 'SGD', 'Australia': 'AUD',\n",
    " 'Israel': 'ILS', 'South Korea': 'KRW', 'Poland': 'PLN'}\n",
    "        \n",
    "URL = \"https://api.exchangerate.host/latest\""
   ]
  },
  {
   "cell_type": "code",
   "execution_count": 22,
   "id": "56c0b0f2-cfef-403a-bdc0-63609ba98ded",
   "metadata": {},
   "outputs": [
    {
     "name": "stdin",
     "output_type": "stream",
     "text": [
      "How much are you converting? 1,000.j\n"
     ]
    },
    {
     "name": "stdout",
     "output_type": "stream",
     "text": [
      "Invalid Input\n"
     ]
    },
    {
     "name": "stdin",
     "output_type": "stream",
     "text": [
      "How much are you converting? 1,000.00\n",
      "What currency are you converting from? unitde states\n"
     ]
    },
    {
     "name": "stdout",
     "output_type": "stream",
     "text": [
      "Invalid Input\n"
     ]
    },
    {
     "name": "stdin",
     "output_type": "stream",
     "text": [
      "What currency are you converting from? UniTed StaTeS\n"
     ]
    },
    {
     "name": "stdout",
     "output_type": "stream",
     "text": [
      "USD\n"
     ]
    },
    {
     "name": "stdin",
     "output_type": "stream",
     "text": [
      "What currency are you converting to? great britain\n"
     ]
    },
    {
     "name": "stdout",
     "output_type": "stream",
     "text": [
      "Invalid Input\n"
     ]
    },
    {
     "name": "stdin",
     "output_type": "stream",
     "text": [
      "What currency are you converting to? GbP\n"
     ]
    },
    {
     "name": "stdout",
     "output_type": "stream",
     "text": [
      "GBP\n"
     ]
    },
    {
     "data": {
      "text/plain": [
       "'$830.16'"
      ]
     },
     "execution_count": 22,
     "metadata": {},
     "output_type": "execute_result"
    }
   ],
   "source": [
    "#getting user input, while x=0, we are validating that the amt the user inputs is a number\n",
    "\n",
    "x = 0\n",
    "while x == 0:\n",
    "    try:\n",
    "        num = input('How much are you converting?')\n",
    "        icon = [',','$']\n",
    "        for i in icon:\n",
    "            if i in num:\n",
    "                num = num.replace(i,'')\n",
    "        num = float(num)\n",
    "        x += 1\n",
    "    except:\n",
    "        print('Invalid Input')\n",
    "        continue\n",
    "\n",
    "#while x = 1, we are validating whether or not the user input was a valid country code and if it was a country name, changing it into a code\n",
    "while x == 1:\n",
    "    code = input('What currency are you converting from?')\n",
    "    if checkCode(code) != 'XXX':\n",
    "        fcode = checkCode(code)\n",
    "        print( fcode )\n",
    "        x += 1\n",
    "    else:\n",
    "        print('Invalid Input')\n",
    "\n",
    "#while x = 2, we are validating whether or not the user input was a valid country code and if it was a country name, changing it into a code        \n",
    "while x == 2:\n",
    "    code = input('What currency are you converting to?')\n",
    "    if checkCode(code) != 'XXX':\n",
    "        tcode = checkCode(code)\n",
    "        print( tcode )\n",
    "        x += 1\n",
    "    else:\n",
    "        print('Invalid Input')\n",
    "convert(num, fcode, tcode)"
   ]
  },
  {
   "cell_type": "code",
   "execution_count": null,
   "id": "f5c61575-4141-4e9b-b472-fcbf94b7d078",
   "metadata": {},
   "outputs": [],
   "source": []
  },
  {
   "cell_type": "code",
   "execution_count": null,
   "id": "b63d89b2-9e26-4feb-b31d-f0f2c1e3b3a6",
   "metadata": {},
   "outputs": [],
   "source": []
  }
 ],
 "metadata": {
  "kernelspec": {
   "display_name": "Python 3 (ipykernel)",
   "language": "python",
   "name": "python3"
  },
  "language_info": {
   "codemirror_mode": {
    "name": "ipython",
    "version": 3
   },
   "file_extension": ".py",
   "mimetype": "text/x-python",
   "name": "python",
   "nbconvert_exporter": "python",
   "pygments_lexer": "ipython3",
   "version": "3.9.7"
  }
 },
 "nbformat": 4,
 "nbformat_minor": 5
}
