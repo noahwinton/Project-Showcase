{
 "cells": [
  {
   "cell_type": "code",
   "execution_count": 1,
   "id": "4ff465b0-3661-4ebe-a7a3-a47e2f2aa747",
   "metadata": {},
   "outputs": [],
   "source": []
  },
  {
   "cell_type": "code",
   "execution_count": 38,
   "id": "51ec2c0d-a871-43fd-bf72-e4c4e8cc98b1",
   "metadata": {},
   "outputs": [
    {
     "name": "stdin",
     "output_type": "stream",
     "text": [
      "What is the investment amount (in $)?: 3000\n",
      "How long will you hold the investment (in years)?: 4\n",
      "At what interest rate will the money grow? (enter as stated: 5.5% = 5.5): 5.5\n"
     ]
    }
   ],
   "source": [
    "# Noah Winton\n",
    "# user input\n",
    "# Assigning input to variables\n",
    "i = float(input('What is the investment amount (in $)?:'))\n",
    "t = float(input('How long will you hold the investment (in years)?:'))\n",
    "r = float(input('At what interest rate will the money grow? (enter as stated: 5.5% = 5.5):'))"
   ]
  },
  {
   "cell_type": "code",
   "execution_count": 39,
   "id": "d25be002-28fd-4f97-9693-3bce218ba6bf",
   "metadata": {},
   "outputs": [],
   "source": [
    "# calc future value"
   ]
  },
  {
   "cell_type": "code",
   "execution_count": 40,
   "id": "11627180-0f27-4be1-b5be-695703a2ea4d",
   "metadata": {},
   "outputs": [],
   "source": [
    "r /= 100\n",
    "fv_s = i*(1+r*t)\n",
    "fv_c = i*((1+r)**t)\n",
    "r *= 100"
   ]
  },
  {
   "cell_type": "code",
   "execution_count": 41,
   "id": "9cb47027-7d51-4daf-a574-471ab215ce3b",
   "metadata": {},
   "outputs": [],
   "source": [
    "# output value"
   ]
  },
  {
   "cell_type": "code",
   "execution_count": 42,
   "id": "b0628639-6de5-4bed-80f1-356960cd82f7",
   "metadata": {},
   "outputs": [
    {
     "name": "stdout",
     "output_type": "stream",
     "text": [
      "With simple interest, the future value of an initial investment of 3000.0 dollars with an interest rate of 5.5 percent over 4 years would be 3660.0 dollars. With compounding interest the principle would be worth 3716.47 dollars.\n"
     ]
    }
   ],
   "source": [
    "print('With simple interest, the future value of an initial investment of', i, 'dollars with an interest rate of', r, 'percent over', int(t), 'years would be', round(fv_s,2) ,'dollars. With compounding interest the principle would be worth', round(fv_c,2), 'dollars.')"
   ]
  },
  {
   "cell_type": "code",
   "execution_count": null,
   "id": "88b6252c-7c00-4376-84e0-41c32be411f5",
   "metadata": {},
   "outputs": [],
   "source": []
  }
 ],
 "metadata": {
  "kernelspec": {
   "display_name": "Python 3",
   "language": "python",
   "name": "python3"
  },
  "language_info": {
   "codemirror_mode": {
    "name": "ipython",
    "version": 3
   },
   "file_extension": ".py",
   "mimetype": "text/x-python",
   "name": "python",
   "nbconvert_exporter": "python",
   "pygments_lexer": "ipython3",
   "version": "3.8.8"
  }
 },
 "nbformat": 4,
 "nbformat_minor": 5
}
