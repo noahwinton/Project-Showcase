{
 "cells": [
  {
   "cell_type": "raw",
   "id": "6d9b64ec-4c23-429f-8d15-708987933b70",
   "metadata": {},
   "source": [
    "Noah Winton"
   ]
  },
  {
   "cell_type": "code",
   "execution_count": 2,
   "id": "30d24ee5-aa9f-42c9-830b-9d517cc01c27",
   "metadata": {},
   "outputs": [
    {
     "name": "stdout",
     "output_type": "stream",
     "text": [
      "6 6\n",
      "Dealer Wins\n",
      "---------------------\n",
      "4 5\n",
      "3 2\n",
      "4 6\n",
      "2 4\n",
      "6 1\n",
      "Dealer Wins\n",
      "---------------------\n",
      "1 6\n",
      "Player Wins\n",
      "---------------------\n",
      "3 3\n",
      "1 1\n",
      "3 1\n",
      "3 2\n",
      "2 3\n",
      "1 3\n",
      "4 1\n",
      "5 6\n",
      "2 4\n",
      "Player Wins\n",
      "---------------------\n",
      "2 3\n",
      "5 6\n",
      "3 4\n",
      "Dealer Wins\n",
      "---------------------\n",
      "Dealer Wins: 3\n",
      "Player Wins: 2\n"
     ]
    }
   ],
   "source": [
    "import random\n",
    "playerWin = 0\n",
    "dealerWin = 0\n",
    "for i in range(5):\n",
    "    gameOn = True\n",
    "    game2On = True\n",
    "    points = 0\n",
    "    while gameOn == True:\n",
    "        roll1 = random.randint(1,6)\n",
    "        roll2 = random.randint(1,6)\n",
    "        sum = roll1 + roll2\n",
    "        print(roll1, roll2)\n",
    "        if sum == 7 or sum == 11:\n",
    "            print(\"Player Wins\")\n",
    "            playerWin += 1\n",
    "            gameOn = False\n",
    "        elif sum == 12 or sum ==3 or sum == 2:\n",
    "            print(\"Dealer Wins\")\n",
    "            dealerWin += 1\n",
    "            gameOn = False\n",
    "        else:\n",
    "            points = sum\n",
    "            while game2On == True:\n",
    "                roll1 = random.randint(1,6)\n",
    "                roll2 = random.randint(1,6) \n",
    "                sum2 = roll1 + roll2\n",
    "                print(roll1, roll2)\n",
    "                if sum2 == sum:\n",
    "                    print(\"Player Wins\")\n",
    "                    playerWin+=1\n",
    "                    game2On = False\n",
    "                    gameOn = False\n",
    "                elif sum2 == 7:\n",
    "                    print('Dealer Wins')\n",
    "                    dealerWin += 1\n",
    "                    game2On = False\n",
    "                    gameOn = False \n",
    "    print('---------------------')\n",
    "print(\"Dealer Wins:\", dealerWin)\n",
    "print(\"Player Wins:\", playerWin)"
   ]
  },
  {
   "cell_type": "code",
   "execution_count": null,
   "id": "802ff871-839a-4501-8114-6b9e1c1e6647",
   "metadata": {},
   "outputs": [],
   "source": []
  }
 ],
 "metadata": {
  "kernelspec": {
   "display_name": "Python 3",
   "language": "python",
   "name": "python3"
  },
  "language_info": {
   "codemirror_mode": {
    "name": "ipython",
    "version": 3
   },
   "file_extension": ".py",
   "mimetype": "text/x-python",
   "name": "python",
   "nbconvert_exporter": "python",
   "pygments_lexer": "ipython3",
   "version": "3.8.8"
  }
 },
 "nbformat": 4,
 "nbformat_minor": 5
}
