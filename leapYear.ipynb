{
 "cells": [
  {
   "cell_type": "code",
   "execution_count": 1,
   "id": "424670cf-f584-4de8-a417-0b0dd23fd503",
   "metadata": {},
   "outputs": [
    {
     "name": "stdin",
     "output_type": "stream",
     "text": [
      "Enter a year between 1800 - 2200: 2020\n"
     ]
    },
    {
     "name": "stdout",
     "output_type": "stream",
     "text": [
      "Leap Year\n"
     ]
    }
   ],
   "source": [
    "# Noah Winton\n",
    "# Promt for Input\n",
    "year = int(input(\"Enter a year between 1800 - 2200:\"))\n",
    "# Validate Entry\n",
    "# if year is not type 'int', the in range function would not work \n",
    "if year not in range(1800, 2201):\n",
    "    print('Invalid Entry')\n",
    "# Determine if entry is leap year \n",
    "else:\n",
    "    if year % 4 != 0:\n",
    "        print('Not a Leap Year')\n",
    "    elif year % 100 == 0 and year % 400 != 0:\n",
    "        print('Not a Leap Year')\n",
    "    else:\n",
    "        print('Leap Year')"
   ]
  },
  {
   "cell_type": "code",
   "execution_count": null,
   "id": "40bc5c82-4c5a-481b-96d3-b3c2e3b1643c",
   "metadata": {},
   "outputs": [],
   "source": []
  },
  {
   "cell_type": "code",
   "execution_count": null,
   "id": "e05a3754-e6f0-4578-99ae-5f420cd2d409",
   "metadata": {},
   "outputs": [],
   "source": []
  }
 ],
 "metadata": {
  "kernelspec": {
   "display_name": "Python 3",
   "language": "python",
   "name": "python3"
  },
  "language_info": {
   "codemirror_mode": {
    "name": "ipython",
    "version": 3
   },
   "file_extension": ".py",
   "mimetype": "text/x-python",
   "name": "python",
   "nbconvert_exporter": "python",
   "pygments_lexer": "ipython3",
   "version": "3.8.8"
  }
 },
 "nbformat": 4,
 "nbformat_minor": 5
}
